{
 "cells": [
  {
   "cell_type": "code",
   "execution_count": 98,
   "id": "ce653289",
   "metadata": {},
   "outputs": [],
   "source": [
    "import numpy as np\n",
    "cost = -1\n",
    "\n",
    "BLOSUM62 = [\n",
    " [4, -1, -2, -2,  0, -1, -1,  0, -2, -1, -1, -1, -1, -2, -1,  1,  0, -3, -2,  0, -2, -1,  0, -4],\n",
    " [-1,  5,  0, -2, -3,  1,  0, -2,  0, -3, -2,  2, -1, -3, -2, -1, -1, -3, -2, -3, -1,  0, -1, -4],\n",
    " [-2,  0,  6,  1, -3,  0,  0,  0,  1, -3, -3,  0, -2, -3, -2,  1,  0, -4, -2, -3,  3,  0, -1, -4],\n",
    " [-2, -2,  1,  6, -3,  0,  2, -1, -1, -3, -4, -1, -3, -3, -1,  0, -1, -4, -3, -3,  4,  1, -1, -4],\n",
    " [0, -3, -3, -3,  9, -3, -4, -3, -3, -1, -1, -3, -1, -2, -3, -1, -1, -2, -2, -1, -3, -3, -2, -4],\n",
    " [-1,  1,  0,  0, -3,  5,  2, -2,  0, -3, -2,  1,  0, -3, -1,  0, -1, -2, -1, -2,  0,  3, -1, -4],\n",
    " [-1,  0,  0,  2, -4,  2,  5, -2,  0, -3, -3,  1, -2, -3, -1,  0, -1, -3, -2, -2,  1,  4, -1, -4],\n",
    " [0, -2,  0, -1, -3, -2, -2,  6, -2, -4, -4, -2, -3, -3, -2,  0, -2, -2, -3, -3, -1, -2, -1, -4],\n",
    " [-2,  0,  1, -1, -3,  0,  0, -2,  8, -3, -3, -1, -2, -1, -2, -1, -2, -2,  2, -3,  0,  0, -1, -4],\n",
    " [-1, -3, -3, -3, -1, -3, -3, -4, -3,  4,  2, -3,  1,  0, -3, -2, -1, -3, -1,  3, -3, -3, -1, -4],\n",
    " [-1, -2, -3, -4, -1, -2, -3, -4, -3,  2,  4, -2,  2,  0, -3, -2, -1, -2, -1,  1, -4, -3, -1, -4],\n",
    " [-1,  2,  0, -1, -3,  1,  1, -2, -1, -3, -2,  5, -1, -3, -1,  0, -1, -3, -2, -2,  0,  1, -1, -4],\n",
    " [-1, -1, -2, -3, -1,  0, -2, -3, -2,  1,  2, -1,  5,  0, -2, -1, -1, -1, -1,  1, -3, -1, -1, -4],\n",
    " [-2, -3, -3, -3, -2, -3, -3, -3, -1,  0,  0, -3,  0,  6, -4, -2, -2,  1,  3, -1, -3, -3, -1, -4],\n",
    " [-1, -2, -2, -1, -3, -1, -1, -2, -2, -3, -3, -1, -2, -4,  7, -1, -1, -4, -3, -2, -2, -1, -2, -4],\n",
    " [1, -1,  1,  0, -1,  0,  0,  0, -1, -2, -2,  0, -1, -2, -1,  4,  1, -3, -2, -2,  0,  0,  0, -4], \n",
    " [0, -1,  0, -1, -1, -1, -1, -2, -2, -1, -1, -1, -1, -2, -1,  1,  5, -2, -2,  0, -1, -1,  0, -4],\n",
    " [-3, -3, -4, -4, -2, -2, -3, -2, -2, -3, -2, -3, -1,  1, -4, -3, -2, 11,  2, -3, -4, -3, -2, -4],\n",
    " [-2, -2, -2, -3, -2, -1, -2, -3,  2, -1, -1, -2, -1,  3, -3, -2, -2,  2,  7, -1, -3, -2, -1, -4],\n",
    " [0, -3, -3, -3, -1, -2, -2, -3, -3,  3,  1, -2,  1, -1, -2, -2,  0, -3, -1,  4, -3, -2, -1, -4],\n",
    " [-2, -1,  3,  4, -3,  0,  1, -1,  0, -3, -4,  0, -3, -3, -2,  0, -1, -4, -3, -3,  4,  1, -1, -4],\n",
    " [-1,  0,  0,  1, -3,  3,  4, -2,  0, -3, -3,  1, -1, -3, -1,  0, -1, -3, -2, -2,  1,  4, -1, -4],\n",
    " [0, -1, -1, -1, -2, -1, -1, -1, -1, -1, -1, -1, -1, -1, -2,  0,  0, -2, -1, -1, -1, -1, -1, -4],\n",
    " [-4, -4, -4, -4, -4, -4, -4, -4, -4, -4, -4, -4, -4, -4, -4, -4, -4, -4, -4, -4, -4, -4, -4,  1]\n",
    "]\n",
    "\n",
    "    \n",
    "index = {\n",
    "    'A':0,  \n",
    "    'R':1,  \n",
    "    'N':2,  \n",
    "    'D':3, \n",
    "    'C':4,  \n",
    "    'Q':5,  \n",
    "    'E':6,  \n",
    "    'G':7,  \n",
    "    'H':8,\n",
    "    'I':9,\n",
    "    'L':10,  \n",
    "    'K':11,  \n",
    "    'M':12,  \n",
    "    'F':13,  \n",
    "    'P':14,\n",
    "    'S':15,\n",
    "    'T':16,  \n",
    "    'W':17,  \n",
    "    'Y':18,  \n",
    "    'V':19,\n",
    "    'B':20,\n",
    "    'Z':21,\n",
    "    'X':22,\n",
    "    '*':23\n",
    "}\n",
    "\n",
    "\n",
    "def needleman_wunsch(v, w):            \n",
    "    size_v = len(v)\n",
    "    size_w = len(w)\n",
    "\n",
    "    s = np.zeros((size_v + 1, size_w + 1), dtype=np.float64)\n",
    "    b = np.zeros((size_v + 1, size_w + 1), dtype=np.int32)\n",
    "\n",
    "    for i in range(size_v + 1):\n",
    "        s[i, 0] = 0\n",
    "\n",
    "    for j in range(size_w + 1):\n",
    "        s[0, j] = 0\n",
    "\n",
    "    for i in range(1, size_v + 1):\n",
    "        for j in range(1, size_w + 1):\n",
    "            diag = s[i - 1, j - 1] + 1 if v[i - 1] == w[j - 1] else 0 # + BLOSUM62[index[sequence_a[i - 1]]][index[sequence_b[j - 1]]]\n",
    "            \n",
    "            s[i, j] = max(s[i - 1, j], s[i, j - 1], diag)            \n",
    "            \n",
    "            if s[i, j] == s[i - 1, j - 1] + 1:\n",
    "                b[i, j] = 0\n",
    "            elif s[i, j] == s[i, j - 1]:\n",
    "                b[i, j] = 1\n",
    "            elif s[i, j] == s[i - 1, j]:\n",
    "                b[i, j] = 2\n",
    "\n",
    "    print(s)\n",
    "    return s[s.shape[0] - 1, s.shape[1] - 1], b\n",
    "\n"
   ]
  },
  {
   "cell_type": "code",
   "execution_count": 99,
   "id": "c099326e",
   "metadata": {},
   "outputs": [
    {
     "name": "stdout",
     "output_type": "stream",
     "text": [
      "[[0. 0. 0. 0. 0. 0. 0. 0.]\n",
      " [0. 1. 1. 1. 1. 1. 1. 1.]\n",
      " [0. 1. 2. 2. 2. 2. 2. 2.]\n",
      " [0. 1. 2. 2. 2. 2. 2. 2.]\n",
      " [0. 1. 2. 3. 3. 3. 3. 3.]\n",
      " [0. 1. 2. 3. 4. 4. 4. 4.]\n",
      " [0. 1. 2. 3. 4. 4. 5. 5.]\n",
      " [0. 1. 2. 3. 4. 4. 5. 5.]]\n"
     ]
    }
   ],
   "source": [
    "def printReadableMatrix(path_matrix):\n",
    "    for i in range(path_matrix.shape[0]):\n",
    "        for j in range(path_matrix.shape[1]):\n",
    "            if path_matrix[i][j] == 1:\n",
    "                print(\"U \", end=\" \")\n",
    "            elif path_matrix[i][j] == 0:\n",
    "                print(\"D \", end=\" \")\n",
    "            elif path_matrix[i][j] == 2:\n",
    "                print(\"L \", end=\" \")\n",
    "        print('')\n",
    "\n",
    "seq1 = \"ATCGTAC\"\n",
    "seq2 = \"ATGTTAT\"\n",
    "\n",
    "value, path_matrix = needleman_wunsch(seq1, seq2)"
   ]
  },
  {
   "cell_type": "code",
   "execution_count": 100,
   "id": "f2f448cd",
   "metadata": {},
   "outputs": [
    {
     "name": "stdout",
     "output_type": "stream",
     "text": [
      "D  D  D  D  D  D  D  D  \n",
      "D  D  D  D  D  D  D  D  \n",
      "D  D  D  D  D  D  D  D  \n",
      "D  D  D  U  U  U  U  U  \n",
      "D  D  D  D  D  D  D  D  \n",
      "D  D  D  D  D  D  D  D  \n",
      "D  D  D  D  D  U  D  D  \n",
      "D  D  D  D  D  U  D  U  \n"
     ]
    }
   ],
   "source": [
    "printReadableMatrix(path_matrix)"
   ]
  },
  {
   "cell_type": "code",
   "execution_count": 101,
   "id": "9591e571",
   "metadata": {},
   "outputs": [],
   "source": [
    "def get_alignment(path_matrix, seq1, seq2):\n",
    "        \"\"\"\n",
    "        Returns the alignment string from two sequence inputs.\n",
    "        Requires that the needleman-wunsch algorithm has been run.\n",
    "        :return: Alignment of self.seq1 and self.seq2\n",
    "        \"\"\"\n",
    "        align1 = \"\"\n",
    "        matches = \"\"\n",
    "        align2 = \"\"\n",
    "        # Start at the bottom right corner\n",
    "        i = len(seq1) - 1\n",
    "        j = len(seq2) - 1\n",
    "        # Work our way back until we hit the top left corner\n",
    "        while (i, j) != (-1, -1):\n",
    "            path = path_matrix[i][j]\n",
    "            species1 = seq1[i]\n",
    "            species2 = seq2[j]\n",
    "            match = \" \"\n",
    "            \n",
    "            if path == 0:\n",
    "                i -= 1\n",
    "                j -= 1\n",
    "                if species1 == species2:\n",
    "                    match = \"|\"\n",
    "            elif path == 1:\n",
    "                species1 = \"-\"\n",
    "                j -= 1\n",
    "            else:\n",
    "                species2 = \"-\"\n",
    "                i -= 1\n",
    "            align1 = species1 + align1\n",
    "            align2 = species2 + align2\n",
    "            matches = match + matches\n",
    "        return f\"{align1}\\n{matches}\\n{align2}\"\n"
   ]
  },
  {
   "cell_type": "code",
   "execution_count": 97,
   "id": "e0e58cd6",
   "metadata": {},
   "outputs": [
    {
     "ename": "IndexError",
     "evalue": "string index out of range",
     "output_type": "error",
     "traceback": [
      "\u001b[0;31m---------------------------------------------------------------------------\u001b[0m",
      "\u001b[0;31mIndexError\u001b[0m                                Traceback (most recent call last)",
      "Input \u001b[0;32mIn [97]\u001b[0m, in \u001b[0;36m<cell line: 1>\u001b[0;34m()\u001b[0m\n\u001b[0;32m----> 1\u001b[0m \u001b[38;5;28mprint\u001b[39m(\u001b[43mget_alignment\u001b[49m\u001b[43m(\u001b[49m\u001b[43mpath_matrix\u001b[49m\u001b[43m,\u001b[49m\u001b[43m \u001b[49m\u001b[43mseq1\u001b[49m\u001b[43m,\u001b[49m\u001b[43m \u001b[49m\u001b[43mseq2\u001b[49m\u001b[43m)\u001b[49m)\n",
      "Input \u001b[0;32mIn [96]\u001b[0m, in \u001b[0;36mget_alignment\u001b[0;34m(path_matrix, seq1, seq2)\u001b[0m\n\u001b[1;32m     15\u001b[0m path \u001b[38;5;241m=\u001b[39m path_matrix[i][j]\n\u001b[1;32m     16\u001b[0m species1 \u001b[38;5;241m=\u001b[39m seq1[i]\n\u001b[0;32m---> 17\u001b[0m species2 \u001b[38;5;241m=\u001b[39m \u001b[43mseq2\u001b[49m\u001b[43m[\u001b[49m\u001b[43mj\u001b[49m\u001b[43m]\u001b[49m\n\u001b[1;32m     18\u001b[0m match \u001b[38;5;241m=\u001b[39m \u001b[38;5;124m\"\u001b[39m\u001b[38;5;124m \u001b[39m\u001b[38;5;124m\"\u001b[39m\n\u001b[1;32m     20\u001b[0m \u001b[38;5;28;01mif\u001b[39;00m path \u001b[38;5;241m==\u001b[39m \u001b[38;5;241m0\u001b[39m:\n",
      "\u001b[0;31mIndexError\u001b[0m: string index out of range"
     ]
    }
   ],
   "source": [
    "print(get_alignment(path_matrix, seq1, seq2))"
   ]
  },
  {
   "cell_type": "code",
   "execution_count": null,
   "id": "a265ca2f",
   "metadata": {},
   "outputs": [],
   "source": []
  }
 ],
 "metadata": {
  "kernelspec": {
   "display_name": "Python 3 (ipykernel)",
   "language": "python",
   "name": "python3"
  },
  "language_info": {
   "codemirror_mode": {
    "name": "ipython",
    "version": 3
   },
   "file_extension": ".py",
   "mimetype": "text/x-python",
   "name": "python",
   "nbconvert_exporter": "python",
   "pygments_lexer": "ipython3",
   "version": "3.9.13"
  }
 },
 "nbformat": 4,
 "nbformat_minor": 5
}
