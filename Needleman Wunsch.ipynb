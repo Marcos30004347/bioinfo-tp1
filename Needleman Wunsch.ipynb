{
 "cells": [
  {
   "cell_type": "code",
<<<<<<< HEAD
   "execution_count": 128,
=======
   "execution_count": 140,
>>>>>>> 399da7a (backup)
   "id": "ce653289",
   "metadata": {},
   "outputs": [],
   "source": [
    "import numpy as np\n",
    "cost = -1\n",
    "\n",
    "BLOSUM62 = [\n",
    " [4, -1, -2, -2,  0, -1, -1,  0, -2, -1, -1, -1, -1, -2, -1,  1,  0, -3, -2,  0, -2, -1,  0, -4],\n",
    " [-1,  5,  0, -2, -3,  1,  0, -2,  0, -3, -2,  2, -1, -3, -2, -1, -1, -3, -2, -3, -1,  0, -1, -4],\n",
    " [-2,  0,  6,  1, -3,  0,  0,  0,  1, -3, -3,  0, -2, -3, -2,  1,  0, -4, -2, -3,  3,  0, -1, -4],\n",
    " [-2, -2,  1,  6, -3,  0,  2, -1, -1, -3, -4, -1, -3, -3, -1,  0, -1, -4, -3, -3,  4,  1, -1, -4],\n",
    " [0, -3, -3, -3,  9, -3, -4, -3, -3, -1, -1, -3, -1, -2, -3, -1, -1, -2, -2, -1, -3, -3, -2, -4],\n",
    " [-1,  1,  0,  0, -3,  5,  2, -2,  0, -3, -2,  1,  0, -3, -1,  0, -1, -2, -1, -2,  0,  3, -1, -4],\n",
    " [-1,  0,  0,  2, -4,  2,  5, -2,  0, -3, -3,  1, -2, -3, -1,  0, -1, -3, -2, -2,  1,  4, -1, -4],\n",
    " [0, -2,  0, -1, -3, -2, -2,  6, -2, -4, -4, -2, -3, -3, -2,  0, -2, -2, -3, -3, -1, -2, -1, -4],\n",
    " [-2,  0,  1, -1, -3,  0,  0, -2,  8, -3, -3, -1, -2, -1, -2, -1, -2, -2,  2, -3,  0,  0, -1, -4],\n",
    " [-1, -3, -3, -3, -1, -3, -3, -4, -3,  4,  2, -3,  1,  0, -3, -2, -1, -3, -1,  3, -3, -3, -1, -4],\n",
    " [-1, -2, -3, -4, -1, -2, -3, -4, -3,  2,  4, -2,  2,  0, -3, -2, -1, -2, -1,  1, -4, -3, -1, -4],\n",
    " [-1,  2,  0, -1, -3,  1,  1, -2, -1, -3, -2,  5, -1, -3, -1,  0, -1, -3, -2, -2,  0,  1, -1, -4],\n",
    " [-1, -1, -2, -3, -1,  0, -2, -3, -2,  1,  2, -1,  5,  0, -2, -1, -1, -1, -1,  1, -3, -1, -1, -4],\n",
    " [-2, -3, -3, -3, -2, -3, -3, -3, -1,  0,  0, -3,  0,  6, -4, -2, -2,  1,  3, -1, -3, -3, -1, -4],\n",
    " [-1, -2, -2, -1, -3, -1, -1, -2, -2, -3, -3, -1, -2, -4,  7, -1, -1, -4, -3, -2, -2, -1, -2, -4],\n",
    " [1, -1,  1,  0, -1,  0,  0,  0, -1, -2, -2,  0, -1, -2, -1,  4,  1, -3, -2, -2,  0,  0,  0, -4], \n",
    " [0, -1,  0, -1, -1, -1, -1, -2, -2, -1, -1, -1, -1, -2, -1,  1,  5, -2, -2,  0, -1, -1,  0, -4],\n",
    " [-3, -3, -4, -4, -2, -2, -3, -2, -2, -3, -2, -3, -1,  1, -4, -3, -2, 11,  2, -3, -4, -3, -2, -4],\n",
    " [-2, -2, -2, -3, -2, -1, -2, -3,  2, -1, -1, -2, -1,  3, -3, -2, -2,  2,  7, -1, -3, -2, -1, -4],\n",
    " [0, -3, -3, -3, -1, -2, -2, -3, -3,  3,  1, -2,  1, -1, -2, -2,  0, -3, -1,  4, -3, -2, -1, -4],\n",
    " [-2, -1,  3,  4, -3,  0,  1, -1,  0, -3, -4,  0, -3, -3, -2,  0, -1, -4, -3, -3,  4,  1, -1, -4],\n",
    " [-1,  0,  0,  1, -3,  3,  4, -2,  0, -3, -3,  1, -1, -3, -1,  0, -1, -3, -2, -2,  1,  4, -1, -4],\n",
    " [0, -1, -1, -1, -2, -1, -1, -1, -1, -1, -1, -1, -1, -1, -2,  0,  0, -2, -1, -1, -1, -1, -1, -4],\n",
    " [-4, -4, -4, -4, -4, -4, -4, -4, -4, -4, -4, -4, -4, -4, -4, -4, -4, -4, -4, -4, -4, -4, -4,  1]\n",
    "]\n",
    "\n",
    "    \n",
    "index = {\n",
    "    'A':0,  \n",
    "    'R':1,  \n",
    "    'N':2,  \n",
    "    'D':3, \n",
    "    'C':4,  \n",
    "    'Q':5,  \n",
    "    'E':6,  \n",
    "    'G':7,  \n",
    "    'H':8,\n",
    "    'I':9,\n",
    "    'L':10,  \n",
    "    'K':11,  \n",
    "    'M':12,  \n",
    "    'F':13,  \n",
    "    'P':14,\n",
    "    'S':15,\n",
    "    'T':16,  \n",
    "    'W':17,  \n",
    "    'Y':18,  \n",
    "    'V':19,\n",
    "    'B':20,\n",
    "    'Z':21,\n",
    "    'X':22,\n",
    "    '*':23\n",
    "}\n",
    "\n",
    "# Scoring Scheme\n",
    "MATCH_SCORE = 1\n",
    "MISMATCH_SCORE = 0\n",
    "GAP_SCORE = 0\n",
    "\n",
    "# enum possible values for the B(i,j) -> LEFT, DIAG, UP\n",
    "LEFT = 0\n",
    "DIAG = 1\n",
    "UP = 2\n",
    "RIGHT = 3\n",
    "DOWN = 4\n",
    "\n",
    "def needleman_wunsch(v, w):            \n",
    "    size_v = len(v)\n",
    "    size_w = len(w)\n",
    "\n",
    "    s = np.zeros((size_v + 1, size_w + 1), dtype=np.float64)\n",
    "    b = np.zeros((size_v + 1, size_w + 1), dtype=np.int32)\n",
<<<<<<< HEAD
    "\n",
    "    # score of the first cell is zero\n",
    "    s[0,0] = 0 \n",
    "\n",
    "    for i in range(0, size_v + 1):\n",
    "        for j in range(0, size_w + 1):\n",
    "\n",
    "            if i == 0 and j == 0:\n",
    "                continue\n",
    "\n",
    "            diag_score = -100000\n",
    "            left_score = -100000\n",
    "            up_score = -100000\n",
    "\n",
    "            if i != 0 and j != 0: #it have a diagonal cell\n",
    "                if v[i-1] == w[j-1]:\n",
    "                    diag_score = s[i - 1, j - 1] + MATCH_SCORE\n",
    "                else:\n",
    "                    diag_score = s[i - 1, j - 1] + MISMATCH_SCORE\n",
    "            \n",
    "            if i != 0: #it has a left cell\n",
    "                left_score = s[i-1, j] + GAP_SCORE\n",
    "            \n",
    "            if j != 0: #it has a upper cell\n",
    "                up_score = s[i, j-1] + GAP_SCORE\n",
    "\n",
    "            s[i,j] = max(diag_score, left_score, up_score)\n",
    "\n",
    "            if s[i,j] == diag_score:\n",
    "                b[i,j] = DIAG\n",
    "            \n",
    "            elif s[i,j] == left_score:\n",
    "                b[i,j] = LEFT\n",
    "\n",
    "            else:\n",
    "                b[i,j] = UP\n",
    "\n",
    "\n",
    "    return s[s.shape[0] - 1, s.shape[1] - 1], b.T\n",
    "\n",
    "\n",
    "def needleman_wunsch_old(v, w):            \n",
    "    size_v = len(v)\n",
    "    size_w = len(w)\n",
    "\n",
    "    s = np.zeros((size_v + 1, size_w + 1), dtype=np.float64)\n",
    "    b = np.zeros((size_v + 1, size_w + 1), dtype=np.int32)\n",
    "\n",
    "    for i in range(size_v + 1):\n",
    "        s[i, 0] = 0\n",
    "\n",
    "    for j in range(size_w + 1):\n",
    "        s[0, j] = 0\n",
    "\n",
=======
    "    \n",
    "    for i in range(0, size_v + 1):\n",
    "        b[i, 0] = 2\n",
    "    for i in range(0, size_w + 1):\n",
    "        b[0, i] = 1 \n",
>>>>>>> 399da7a (backup)
    "    for i in range(1, size_v + 1):\n",
    "        for j in range(1, size_w + 1):\n",
    "            diag = s[i - 1, j - 1] + 1 if v[i - 1] == w[j - 1] else 0 # + BLOSUM62[index[sequence_a[i - 1]]][index[sequence_b[j - 1]]]\n",
    "\n",
    "            s[i, j] = max(s[i - 1, j], s[i, j - 1], diag)            \n",
    "            \n",
    "            if s[i, j] == diag:\n",
    "                b[i, j] = 0\n",
    "            elif s[i, j] == s[i, j - 1]:\n",
    "                b[i, j] = 1\n",
    "            else:\n",
    "                b[i, j] = 2\n",
    "\n",
    "    print(s)\n",
    "    return s[s.shape[0] - 1, s.shape[1] - 1], b"
   ]
  },
  {
   "cell_type": "code",
<<<<<<< HEAD
   "execution_count": 129,
   "id": "c099326e",
   "metadata": {},
   "outputs": [
    {
     "name": "stdout",
     "output_type": "stream",
     "text": [
      "[[0 0 0 0 0 0 0 0]\n",
      " [2 1 1 0 1 0 0 1]\n",
      " [2 1 2 1 1 1 0 0]\n",
      " [2 1 2 1 0 0 1 1]\n",
      " [2 1 0 2 1 1 1 0]\n",
      " [2 2 1 0 1 0 0 1]\n",
      " [2 1 2 1 2 1 1 0]]\n"
     ]
    }
   ],
=======
   "execution_count": 141,
   "id": "c099326e",
   "metadata": {},
   "outputs": [],
>>>>>>> 399da7a (backup)
   "source": [
    "def printReadableMatrix(path_matrix):\n",
    "    for i in range(path_matrix.shape[0]):\n",
    "        for j in range(path_matrix.shape[1]):\n",
    "            if path_matrix[i][j] == UP:\n",
    "                print(\"U \", end=\" \")\n",
    "            elif path_matrix[i][j] == DIAG:\n",
    "                print(\"D \", end=\" \")\n",
    "            elif path_matrix[i][j] == LEFT:\n",
    "                print(\"L \", end=\" \")\n",
    "        print('')\n",
    "\n",
    "seq1 = \"ATCTGAT\"\n",
    "seq2 = \"TGCATA\"\n",
    "\n",
    "value, path_matrix = needleman_wunsch(seq1, seq2)\n",
    "print(path_matrix)"
   ]
  },
  {
   "cell_type": "code",
<<<<<<< HEAD
   "execution_count": 130,
=======
   "execution_count": 142,
>>>>>>> 399da7a (backup)
   "id": "f2f448cd",
   "metadata": {},
   "outputs": [
    {
     "name": "stdout",
     "output_type": "stream",
     "text": [
<<<<<<< HEAD
      "L  L  L  L  L  L  L  L  \n",
      "U  D  D  L  D  L  L  D  \n",
      "U  D  U  D  D  D  L  L  \n",
      "U  D  U  D  L  L  D  D  \n",
      "U  D  L  U  D  D  D  L  \n",
      "U  U  D  L  D  L  L  D  \n",
      "U  D  U  D  U  D  D  L  \n"
=======
      "U  U  U  U  U  U  U  U  \n",
      "L  D  D  D  D  D  D  D  \n",
      "L  D  D  L  D  D  L  D  \n",
      "L  D  L  D  D  D  D  U  \n",
      "L  D  L  D  L  L  D  D  \n",
      "L  D  D  L  D  D  L  D  \n",
      "L  D  L  D  L  D  D  L  \n",
      "L  D  D  L  L  L  D  D  \n"
>>>>>>> 399da7a (backup)
     ]
    }
   ],
   "source": [
    "printReadableMatrix(path_matrix)"
   ]
  },
  {
   "cell_type": "code",
<<<<<<< HEAD
   "execution_count": 131,
=======
   "execution_count": 143,
>>>>>>> 399da7a (backup)
   "id": "9591e571",
   "metadata": {},
   "outputs": [
    {
<<<<<<< HEAD
     "ename": "IndexError",
     "evalue": "string index out of range",
     "output_type": "error",
     "traceback": [
      "\u001b[0;31m---------------------------------------------------------------------------\u001b[0m",
      "\u001b[0;31mIndexError\u001b[0m                                Traceback (most recent call last)",
      "\u001b[1;32m/home/luizcouto/School/bioinfo/bioinfo-tp1/Needleman Wunsch.ipynb Cell 4\u001b[0m in \u001b[0;36m<cell line: 94>\u001b[0;34m()\u001b[0m\n\u001b[1;32m     <a href='vscode-notebook-cell:/home/luizcouto/School/bioinfo/bioinfo-tp1/Needleman%20Wunsch.ipynb#W3sZmlsZQ%3D%3D?line=90'>91</a>\u001b[0m     \u001b[39mprint\u001b[39m(seq2)\n\u001b[1;32m     <a href='vscode-notebook-cell:/home/luizcouto/School/bioinfo/bioinfo-tp1/Needleman%20Wunsch.ipynb#W3sZmlsZQ%3D%3D?line=92'>93</a>\u001b[0m path \u001b[39m=\u001b[39m get_path(seq1, seq2, path_matrix)\n\u001b[0;32m---> <a href='vscode-notebook-cell:/home/luizcouto/School/bioinfo/bioinfo-tp1/Needleman%20Wunsch.ipynb#W3sZmlsZQ%3D%3D?line=93'>94</a>\u001b[0m get_alignment_new(seq1, seq2, path)\n",
      "\u001b[1;32m/home/luizcouto/School/bioinfo/bioinfo-tp1/Needleman Wunsch.ipynb Cell 4\u001b[0m in \u001b[0;36mget_alignment_new\u001b[0;34m(v, w, path)\u001b[0m\n\u001b[1;32m     <a href='vscode-notebook-cell:/home/luizcouto/School/bioinfo/bioinfo-tp1/Needleman%20Wunsch.ipynb#W3sZmlsZQ%3D%3D?line=77'>78</a>\u001b[0m     matches \u001b[39m+\u001b[39m\u001b[39m=\u001b[39m \u001b[39m\"\u001b[39m\u001b[39m \u001b[39m\u001b[39m\"\u001b[39m\n\u001b[1;32m     <a href='vscode-notebook-cell:/home/luizcouto/School/bioinfo/bioinfo-tp1/Needleman%20Wunsch.ipynb#W3sZmlsZQ%3D%3D?line=79'>80</a>\u001b[0m \u001b[39melse\u001b[39;00m:\n\u001b[0;32m---> <a href='vscode-notebook-cell:/home/luizcouto/School/bioinfo/bioinfo-tp1/Needleman%20Wunsch.ipynb#W3sZmlsZQ%3D%3D?line=80'>81</a>\u001b[0m     \u001b[39mif\u001b[39;00m w[i\u001b[39m-\u001b[39;49m\u001b[39m1\u001b[39;49m] \u001b[39m==\u001b[39m v[j\u001b[39m-\u001b[39m\u001b[39m1\u001b[39m]:\n\u001b[1;32m     <a href='vscode-notebook-cell:/home/luizcouto/School/bioinfo/bioinfo-tp1/Needleman%20Wunsch.ipynb#W3sZmlsZQ%3D%3D?line=81'>82</a>\u001b[0m         matches \u001b[39m+\u001b[39m\u001b[39m=\u001b[39m \u001b[39m\"\u001b[39m\u001b[39m|\u001b[39m\u001b[39m\"\u001b[39m\n\u001b[1;32m     <a href='vscode-notebook-cell:/home/luizcouto/School/bioinfo/bioinfo-tp1/Needleman%20Wunsch.ipynb#W3sZmlsZQ%3D%3D?line=82'>83</a>\u001b[0m     \u001b[39melse\u001b[39;00m:\n",
      "\u001b[0;31mIndexError\u001b[0m: string index out of range"
=======
     "name": "stdout",
     "output_type": "stream",
     "text": [
      "ATG-T-TAT\n",
      "--ATCGTAC\n"
>>>>>>> 399da7a (backup)
     ]
    }
   ],
   "source": [
    "def get_alignment(path_matrix, seq1, seq2):\n",
    "        align1 = \"\"\n",
    "        matches = \"\"\n",
    "        align2 = \"\"\n",
    "\n",
    "        i = len(seq1) - 1\n",
    "        j = len(seq2) - 1\n",
    "\n",
    "        while i != -1 or j != -1:\n",
    "            path = path_matrix[i + 1][j + 1]\n",
    "\n",
    "            species1 = seq1[i]\n",
    "            species2 = seq2[j]\n",
    "            \n",
    "            match = \" \"\n",
    "            \n",
    "            if path == DIAG:\n",
    "                i -= 1\n",
    "                j -= 1\n",
<<<<<<< HEAD
    "                if species1 == species2:\n",
    "                    match = \"|\"\n",
    "            elif path == LEFT:\n",
=======
    "            elif path == 1:\n",
>>>>>>> 399da7a (backup)
    "                species1 = \"-\"\n",
    "                j -= 1\n",
    "            else:\n",
    "                species2 = \"-\"\n",
    "                i -= 1\n",
    "            \n",
    "            align1 = species1 + align1\n",
    "            align2 = species2 + align2\n",
    "            matches = match + matches\n",
<<<<<<< HEAD
    "        return f\"{align1}\\n{matches}\\n{align2}\"\n",
    "\n",
    "\n",
    "def get_path(v, w, path_matrix):\n",
    "    i = path_matrix.shape[1] - 1\n",
    "    j = path_matrix.shape[0] - 1\n",
    "\n",
    "    path = []\n",
    "\n",
    "    while i != -1 and j != -1:\n",
    "        if path_matrix[i][j] == DIAG:\n",
    "            path.append((i,j, DIAG))\n",
    "            i -= 1\n",
    "            j -= 1\n",
    "        elif path_matrix[i][j] == LEFT:\n",
    "            path.append((i,j, RIGHT))\n",
    "            i -= 1\n",
    "        else:\n",
    "            path.append((i,j, DOWN))\n",
    "            j -= 1\n",
    "\n",
    "    \n",
    "    return list(reversed(path))\n",
    "\n",
    "\n",
    "\n",
    "def get_alignment_new(v, w, path):\n",
    "\n",
    "    seq1 = \"\"\n",
    "    seq2 = \"\"\n",
    "    matches = \"\"\n",
    "\n",
    "    for way in path:\n",
    "        j = way[0]\n",
    "        i = way[1]\n",
    "        if way[2] == DOWN:\n",
    "            seq2 += (v[j-1])\n",
    "            seq1 += \"-\"\n",
    "            matches += \" \"\n",
    "\n",
    "        elif way[2] == RIGHT:\n",
    "            seq1 += (w[i-1])\n",
    "            seq2 += \"-\"\n",
    "            matches += \" \"\n",
    "        \n",
    "        else:\n",
    "            if w[i-1] == v[j-1]:\n",
    "                matches += \"|\"\n",
    "            else:\n",
    "                matches += \" \"\n",
    "            \n",
    "            seq1 += (w[i-1])\n",
    "            seq2 += (v[j-1])\n",
    "\n",
    "    print(seq1)\n",
    "    print(matches)\n",
    "    print(seq2)\n",
    "\n",
    "path = get_path(seq1, seq2, path_matrix)\n",
    "get_alignment_new(seq1, seq2, path)\n",
    "\n",
    "        \n",
    "            \n"
   ]
  },
  {
   "cell_type": "code",
   "execution_count": null,
   "id": "e0e58cd6",
   "metadata": {},
   "outputs": [
    {
     "ename": "IndexError",
     "evalue": "string index out of range",
     "output_type": "error",
     "traceback": [
      "\u001b[0;31m---------------------------------------------------------------------------\u001b[0m",
      "\u001b[0;31mIndexError\u001b[0m                                Traceback (most recent call last)",
      "\u001b[1;32m/home/luizcouto/School/bioinfo/bioinfo-tp1/Needleman Wunsch.ipynb Cell 5\u001b[0m in \u001b[0;36m<cell line: 1>\u001b[0;34m()\u001b[0m\n\u001b[0;32m----> <a href='vscode-notebook-cell:/home/luizcouto/School/bioinfo/bioinfo-tp1/Needleman%20Wunsch.ipynb#W4sZmlsZQ%3D%3D?line=0'>1</a>\u001b[0m \u001b[39mprint\u001b[39m(get_alignment(path_matrix, seq1, seq2))\n",
      "\u001b[1;32m/home/luizcouto/School/bioinfo/bioinfo-tp1/Needleman Wunsch.ipynb Cell 5\u001b[0m in \u001b[0;36mget_alignment\u001b[0;34m(path_matrix, seq1, seq2)\u001b[0m\n\u001b[1;32m     <a href='vscode-notebook-cell:/home/luizcouto/School/bioinfo/bioinfo-tp1/Needleman%20Wunsch.ipynb#W4sZmlsZQ%3D%3D?line=14'>15</a>\u001b[0m path \u001b[39m=\u001b[39m path_matrix[i][j]\n\u001b[1;32m     <a href='vscode-notebook-cell:/home/luizcouto/School/bioinfo/bioinfo-tp1/Needleman%20Wunsch.ipynb#W4sZmlsZQ%3D%3D?line=15'>16</a>\u001b[0m species1 \u001b[39m=\u001b[39m seq1[i]\n\u001b[0;32m---> <a href='vscode-notebook-cell:/home/luizcouto/School/bioinfo/bioinfo-tp1/Needleman%20Wunsch.ipynb#W4sZmlsZQ%3D%3D?line=16'>17</a>\u001b[0m species2 \u001b[39m=\u001b[39m seq2[j]\n\u001b[1;32m     <a href='vscode-notebook-cell:/home/luizcouto/School/bioinfo/bioinfo-tp1/Needleman%20Wunsch.ipynb#W4sZmlsZQ%3D%3D?line=17'>18</a>\u001b[0m match \u001b[39m=\u001b[39m \u001b[39m\"\u001b[39m\u001b[39m \u001b[39m\u001b[39m\"\u001b[39m\n\u001b[1;32m     <a href='vscode-notebook-cell:/home/luizcouto/School/bioinfo/bioinfo-tp1/Needleman%20Wunsch.ipynb#W4sZmlsZQ%3D%3D?line=19'>20</a>\u001b[0m \u001b[39mif\u001b[39;00m path \u001b[39m==\u001b[39m DIAG:\n",
      "\u001b[0;31mIndexError\u001b[0m: string index out of range"
     ]
    }
   ],
   "source": [
=======
    "        return f\"{align2}\\n{align1}\"\n",
    "\n",
>>>>>>> 399da7a (backup)
    "print(get_alignment(path_matrix, seq1, seq2))"
   ]
  },
  {
   "cell_type": "code",
   "execution_count": null,
   "id": "6bcadd58",
   "metadata": {},
   "outputs": [],
   "source": []
  }
 ],
 "metadata": {
  "kernelspec": {
   "display_name": "Python 3.10.6 64-bit",
   "language": "python",
   "name": "python3"
  },
  "language_info": {
   "codemirror_mode": {
    "name": "ipython",
    "version": 3
   },
   "file_extension": ".py",
   "mimetype": "text/x-python",
   "name": "python",
   "nbconvert_exporter": "python",
   "pygments_lexer": "ipython3",
   "version": "3.10.6"
  },
  "vscode": {
   "interpreter": {
    "hash": "916dbcbb3f70747c44a77c7bcd40155683ae19c65e1c03b4aa3499c5328201f1"
   }
  }
 },
 "nbformat": 4,
 "nbformat_minor": 5
}
