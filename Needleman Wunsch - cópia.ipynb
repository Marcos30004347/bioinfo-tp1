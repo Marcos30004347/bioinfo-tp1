{
 "cells": [
  {
   "cell_type": "code",
   "execution_count": 15,
   "id": "ce653289",
   "metadata": {},
   "outputs": [],
   "source": [
    "import numpy as np\n",
    "cost = -1\n",
    "\n",
    "BLOSUM62 = [\n",
    " [4, -1, -2, -2,  0, -1, -1,  0, -2, -1, -1, -1, -1, -2, -1,  1,  0, -3, -2,  0, -2, -1,  0, -4],\n",
    " [-1,  5,  0, -2, -3,  1,  0, -2,  0, -3, -2,  2, -1, -3, -2, -1, -1, -3, -2, -3, -1,  0, -1, -4],\n",
    " [-2,  0,  6,  1, -3,  0,  0,  0,  1, -3, -3,  0, -2, -3, -2,  1,  0, -4, -2, -3,  3,  0, -1, -4],\n",
    " [-2, -2,  1,  6, -3,  0,  2, -1, -1, -3, -4, -1, -3, -3, -1,  0, -1, -4, -3, -3,  4,  1, -1, -4],\n",
    " [0, -3, -3, -3,  9, -3, -4, -3, -3, -1, -1, -3, -1, -2, -3, -1, -1, -2, -2, -1, -3, -3, -2, -4],\n",
    " [-1,  1,  0,  0, -3,  5,  2, -2,  0, -3, -2,  1,  0, -3, -1,  0, -1, -2, -1, -2,  0,  3, -1, -4],\n",
    " [-1,  0,  0,  2, -4,  2,  5, -2,  0, -3, -3,  1, -2, -3, -1,  0, -1, -3, -2, -2,  1,  4, -1, -4],\n",
    " [0, -2,  0, -1, -3, -2, -2,  6, -2, -4, -4, -2, -3, -3, -2,  0, -2, -2, -3, -3, -1, -2, -1, -4],\n",
    " [-2,  0,  1, -1, -3,  0,  0, -2,  8, -3, -3, -1, -2, -1, -2, -1, -2, -2,  2, -3,  0,  0, -1, -4],\n",
    " [-1, -3, -3, -3, -1, -3, -3, -4, -3,  4,  2, -3,  1,  0, -3, -2, -1, -3, -1,  3, -3, -3, -1, -4],\n",
    " [-1, -2, -3, -4, -1, -2, -3, -4, -3,  2,  4, -2,  2,  0, -3, -2, -1, -2, -1,  1, -4, -3, -1, -4],\n",
    " [-1,  2,  0, -1, -3,  1,  1, -2, -1, -3, -2,  5, -1, -3, -1,  0, -1, -3, -2, -2,  0,  1, -1, -4],\n",
    " [-1, -1, -2, -3, -1,  0, -2, -3, -2,  1,  2, -1,  5,  0, -2, -1, -1, -1, -1,  1, -3, -1, -1, -4],\n",
    " [-2, -3, -3, -3, -2, -3, -3, -3, -1,  0,  0, -3,  0,  6, -4, -2, -2,  1,  3, -1, -3, -3, -1, -4],\n",
    " [-1, -2, -2, -1, -3, -1, -1, -2, -2, -3, -3, -1, -2, -4,  7, -1, -1, -4, -3, -2, -2, -1, -2, -4],\n",
    " [1, -1,  1,  0, -1,  0,  0,  0, -1, -2, -2,  0, -1, -2, -1,  4,  1, -3, -2, -2,  0,  0,  0, -4], \n",
    " [0, -1,  0, -1, -1, -1, -1, -2, -2, -1, -1, -1, -1, -2, -1,  1,  5, -2, -2,  0, -1, -1,  0, -4],\n",
    " [-3, -3, -4, -4, -2, -2, -3, -2, -2, -3, -2, -3, -1,  1, -4, -3, -2, 11,  2, -3, -4, -3, -2, -4],\n",
    " [-2, -2, -2, -3, -2, -1, -2, -3,  2, -1, -1, -2, -1,  3, -3, -2, -2,  2,  7, -1, -3, -2, -1, -4],\n",
    " [0, -3, -3, -3, -1, -2, -2, -3, -3,  3,  1, -2,  1, -1, -2, -2,  0, -3, -1,  4, -3, -2, -1, -4],\n",
    " [-2, -1,  3,  4, -3,  0,  1, -1,  0, -3, -4,  0, -3, -3, -2,  0, -1, -4, -3, -3,  4,  1, -1, -4],\n",
    " [-1,  0,  0,  1, -3,  3,  4, -2,  0, -3, -3,  1, -1, -3, -1,  0, -1, -3, -2, -2,  1,  4, -1, -4],\n",
    " [0, -1, -1, -1, -2, -1, -1, -1, -1, -1, -1, -1, -1, -1, -2,  0,  0, -2, -1, -1, -1, -1, -1, -4],\n",
    " [-4, -4, -4, -4, -4, -4, -4, -4, -4, -4, -4, -4, -4, -4, -4, -4, -4, -4, -4, -4, -4, -4, -4,  1]\n",
    "]\n",
    "\n",
    "    \n",
    "index = {\n",
    "    'A':0,  \n",
    "    'R':1,  \n",
    "    'N':2,  \n",
    "    'D':3, \n",
    "    'C':4,  \n",
    "    'Q':5,  \n",
    "    'E':6,  \n",
    "    'G':7,  \n",
    "    'H':8,\n",
    "    'I':9,\n",
    "    'L':10,  \n",
    "    'K':11,  \n",
    "    'M':12,  \n",
    "    'F':13,  \n",
    "    'P':14,\n",
    "    'S':15,\n",
    "    'T':16,  \n",
    "    'W':17,  \n",
    "    'Y':18,  \n",
    "    'V':19,\n",
    "    'B':20,\n",
    "    'Z':21,\n",
    "    'X':22,\n",
    "    '*':23\n",
    "}\n",
    "\n",
    "DIAG = 0\n",
    "UP = 1\n",
    "LEFT = 2\n",
    "\n",
    "\n",
    "GAP_SCORE = -4\n",
    "\n",
    "\n",
    "def needleman_wunsch(v, w):            \n",
    "    size_v = len(v)\n",
    "    size_w = len(w)\n",
    "\n",
    "    s = np.zeros((size_v + 1, size_w + 1), dtype=np.float64)\n",
    "    b = np.zeros((size_v + 1, size_w + 1), dtype=np.int32)\n",
    "    \n",
    "    for i in range(0, size_v + 1):\n",
    "        b[i, 0] = LEFT\n",
    "    for i in range(0, size_w + 1):\n",
    "        b[0, i] = UP\n",
    "    \n",
    "    for i in range(1, size_v + 1):\n",
    "        for j in range(1, size_w + 1):\n",
    "            diag_score = s[i - 1, j - 1] + BLOSUM62[index[v[i - 1]]][index[w[j - 1]]]\n",
    "            up_score = s[i, j - 1] + GAP_SCORE\n",
    "            left_score = s[i - 1, j] + GAP_SCORE\n",
    "\n",
    "            s[i, j] = max(left_score, up_score, diag_score)            \n",
    "            \n",
    "            if s[i, j] == diag_score:\n",
    "                b[i, j] = DIAG\n",
    "            elif s[i, j] == up_score:\n",
    "                b[i, j] = UP\n",
    "            else:\n",
    "                b[i, j] = LEFT\n",
    "\n",
    "    print(s)\n",
    "    return s[s.shape[0] - 1, s.shape[1] - 1], b"
   ]
  },
  {
   "cell_type": "code",
   "execution_count": 16,
   "id": "c099326e",
   "metadata": {},
   "outputs": [
    {
     "name": "stdout",
     "output_type": "stream",
     "text": [
      "[[ 0.  0.  0.  0.  0.  0.  0.  0.]\n",
      " [ 0.  4.  0.  0.  0.  0.  4.  0.]\n",
      " [ 0.  0.  9.  5.  5.  5.  1.  9.]\n",
      " [ 0.  0.  5.  6.  4.  4.  5.  5.]\n",
      " [ 0.  0.  1. 11.  7.  3.  4.  3.]\n",
      " [ 0.  0.  5.  7. 16. 12.  8.  9.]\n",
      " [ 0.  4.  1.  5. 12. 16. 16. 12.]\n",
      " [ 0.  0.  3.  1.  8. 12. 16. 15.]]\n"
     ]
    }
   ],
   "source": [
    "def printReadableMatrix(path_matrix):\n",
    "    for i in range(path_matrix.shape[0]):\n",
    "        for j in range(path_matrix.shape[1]):\n",
    "            if path_matrix[i][j] == 1:\n",
    "                print(\"U \", end=\" \")\n",
    "            elif path_matrix[i][j] == 0:\n",
    "                print(\"D \", end=\" \")\n",
    "            elif path_matrix[i][j] == 2:\n",
    "                print(\"L \", end=\" \")\n",
    "        print('')\n",
    "\n",
    "seq1 = \"ATCGTAC\"\n",
    "seq2 = \"ATGTTAT\"\n",
    "\n",
    "value, path_matrix = needleman_wunsch(seq1, seq2)"
   ]
  },
  {
   "cell_type": "code",
   "execution_count": 17,
   "id": "f2f448cd",
   "metadata": {},
   "outputs": [
    {
     "name": "stdout",
     "output_type": "stream",
     "text": [
      "U  U  U  U  U  U  U  U  \n",
      "L  D  D  D  D  D  D  D  \n",
      "L  D  D  U  D  D  U  D  \n",
      "L  D  L  D  D  D  D  L  \n",
      "L  D  L  D  U  U  D  D  \n",
      "L  D  D  L  D  D  U  D  \n",
      "L  D  L  D  L  D  D  U  \n",
      "L  D  D  L  L  L  D  D  \n"
     ]
    }
   ],
   "source": [
    "printReadableMatrix(path_matrix)"
   ]
  },
  {
   "cell_type": "code",
   "execution_count": 18,
   "id": "9591e571",
   "metadata": {},
   "outputs": [
    {
     "name": "stdout",
     "output_type": "stream",
     "text": [
      "AT-GTTAT\n",
      "ATCG-TAC\n"
     ]
    }
   ],
   "source": [
    "def get_alignment(path_matrix, seq1, seq2):\n",
    "        align1 = \"\"\n",
    "        matches = \"\"\n",
    "        align2 = \"\"\n",
    "\n",
    "        i = len(seq1) - 1\n",
    "        j = len(seq2) - 1\n",
    "\n",
    "        while i != -1 or j != -1:\n",
    "            path = path_matrix[i + 1][j + 1]\n",
    "\n",
    "            species1 = seq1[i]\n",
    "            species2 = seq2[j]\n",
    "            \n",
    "            match = \" \"\n",
    "            \n",
    "            if path == 0:\n",
    "                i -= 1\n",
    "                j -= 1\n",
    "            elif path == 1:\n",
    "                species1 = \"-\"\n",
    "                j -= 1\n",
    "            else:\n",
    "                species2 = \"-\"\n",
    "                i -= 1\n",
    "            align1 = species1 + align1\n",
    "            align2 = species2 + align2\n",
    "            matches = match + matches\n",
    "        return f\"{align2}\\n{align1}\"\n",
    "\n",
    "print(get_alignment(path_matrix, seq1, seq2))"
   ]
  },
  {
   "cell_type": "code",
   "execution_count": null,
   "id": "6bcadd58",
   "metadata": {},
   "outputs": [],
   "source": []
  }
 ],
 "metadata": {
  "kernelspec": {
   "display_name": "Python 3.10.6 64-bit",
   "language": "python",
   "name": "python3"
  },
  "language_info": {
   "codemirror_mode": {
    "name": "ipython",
    "version": 3
   },
   "file_extension": ".py",
   "mimetype": "text/x-python",
   "name": "python",
   "nbconvert_exporter": "python",
   "pygments_lexer": "ipython3",
   "version": "3.10.6"
  },
  "vscode": {
   "interpreter": {
    "hash": "916dbcbb3f70747c44a77c7bcd40155683ae19c65e1c03b4aa3499c5328201f1"
   }
  }
 },
 "nbformat": 4,
 "nbformat_minor": 5
}
